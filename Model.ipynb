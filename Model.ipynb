{
  "nbformat": 4,
  "nbformat_minor": 0,
  "metadata": {
    "colab": {
      "provenance": []
    },
    "kernelspec": {
      "name": "python3",
      "display_name": "Python 3"
    },
    "language_info": {
      "name": "python"
    }
  },
  "cells": [
    {
      "cell_type": "markdown",
      "source": [
        "#1. Import Libraries"
      ],
      "metadata": {
        "id": "fz_rE-9n_YAD"
      }
    },
    {
      "cell_type": "code",
      "execution_count": 37,
      "metadata": {
        "id": "wJ2vrz98moSw"
      },
      "outputs": [],
      "source": [
        "# Data Wrangling\n",
        "import pandas as pd\n",
        "import numpy as np\n",
        "import math\n",
        "\n",
        "# Data Visualization\n",
        "import matplotlib.pyplot as plt\n",
        "import seaborn as sns\n",
        "\n",
        "# Modeling\n",
        "from sklearn.linear_model import LinearRegression\n",
        "from sklearn.model_selection import train_test_split\n",
        "from sklearn.metrics import mean_squared_error"
      ]
    },
    {
      "cell_type": "markdown",
      "source": [
        "#2. Import and Read Data"
      ],
      "metadata": {
        "id": "NiJel54ySthS"
      }
    },
    {
      "cell_type": "code",
      "source": [
        "df = pd.read_csv(\"/content/assignment_raw_data.csv\")\n",
        "genotypes = pd.read_parquet(\"/content/assignment_genotypes_subsample.parquet.gz\").reset_index()"
      ],
      "metadata": {
        "id": "E3bLDfMbmwx5"
      },
      "execution_count": 38,
      "outputs": []
    },
    {
      "cell_type": "code",
      "source": [
        "# Join genotypes with df\n",
        "\n",
        "genotypes = genotypes.rename(columns={\"index\":\"rfid\"}).astype({\"rfid\":int})\n",
        "df = pd.merge(df, genotypes, on='rfid')"
      ],
      "metadata": {
        "id": "wTBsUAofS-sI"
      },
      "execution_count": 39,
      "outputs": []
    },
    {
      "cell_type": "markdown",
      "source": [
        "#3. Clean Data"
      ],
      "metadata": {
        "id": "lMd1AeaRpvV3"
      }
    },
    {
      "cell_type": "code",
      "source": [
        "# Based off EDA, remove rows that belong to a \"room_box\" that does not surpass a frequency count\n",
        "\n",
        "freq_cnt = 19 \n",
        "\n",
        "room_box_counts = df['room_box'].value_counts()\n",
        "df = df[df['room_box'].isin(room_box_counts[room_box_counts >= freq_cnt].index)]"
      ],
      "metadata": {
        "id": "Y6TG_pMSpyZA"
      },
      "execution_count": 40,
      "outputs": []
    },
    {
      "cell_type": "code",
      "source": [
        "# Based off EDA, remove rows that have a \"cued_age\" less than a threshold \n",
        "\n",
        "threshold = 105 \n",
        "\n",
        "df = df[df['cued_age'] >= threshold]"
      ],
      "metadata": {
        "id": "5qgr_7lhYtZF"
      },
      "execution_count": 41,
      "outputs": []
    },
    {
      "cell_type": "markdown",
      "source": [
        "#4. Feature Engineering"
      ],
      "metadata": {
        "id": "dputsT0LnEnj"
      }
    },
    {
      "cell_type": "markdown",
      "source": [
        "###Categorical Features"
      ],
      "metadata": {
        "id": "LIPRLlZRnLat"
      }
    },
    {
      "cell_type": "code",
      "source": [
        "# Covert 'sex' from M/F to 0/1\n",
        "\n",
        "df['sex'].replace(['M','F'], [0,1],inplace=True)"
      ],
      "metadata": {
        "id": "37MfnmYtm3kA"
      },
      "execution_count": 42,
      "outputs": []
    },
    {
      "cell_type": "code",
      "source": [
        "# Convert 'site' from italy/us to 0/1\n",
        "\n",
        "df['site'].replace(['italy','us'], [0,1],inplace=True)"
      ],
      "metadata": {
        "id": "WhApRj6mnmSI"
      },
      "execution_count": 43,
      "outputs": []
    },
    {
      "cell_type": "code",
      "source": [
        "# Convert 'room' into a one hot encoding \n",
        "\n",
        "room_ohe = pd.get_dummies(df['room'])\n",
        "df = pd.concat([df,room_ohe],axis=1)"
      ],
      "metadata": {
        "id": "sTvn76Q6qvm3"
      },
      "execution_count": 44,
      "outputs": []
    },
    {
      "cell_type": "code",
      "source": [
        "# Convert 'box' into a one hot encoding\n",
        "\n",
        "box_ohe = pd.get_dummies(df['box'])\n",
        "df = pd.concat([df,box_ohe],axis=1)"
      ],
      "metadata": {
        "id": "flIqsT6gq5qi"
      },
      "execution_count": 45,
      "outputs": []
    },
    {
      "cell_type": "code",
      "source": [
        "# Convert 'cohort' from C**(italy/us) to **; where ** is of type int ranging between[2,17]\n",
        "\n",
        "df['cohort_num'] = (df['cohort'].str[1:3]).astype(int)"
      ],
      "metadata": {
        "id": "6dj3LtIMr6g1"
      },
      "execution_count": 46,
      "outputs": []
    },
    {
      "cell_type": "markdown",
      "source": [
        "###Generate Training and Test Dataset"
      ],
      "metadata": {
        "id": "gmLCCGnIS72l"
      }
    },
    {
      "cell_type": "code",
      "source": [
        "# Split the data into training and testing sets\n",
        "\n",
        "x_train, x_test, y_train, y_test = train_test_split(df, df, test_size=0.2, random_state=20)"
      ],
      "metadata": {
        "id": "8kmpB3L7lqPX"
      },
      "execution_count": 47,
      "outputs": []
    },
    {
      "cell_type": "markdown",
      "source": [
        "###Normalize Continuous Features"
      ],
      "metadata": {
        "id": "qPqcFlbHu3A2"
      }
    },
    {
      "cell_type": "code",
      "source": [
        "# Z-Score Normalization\n",
        "# Z-score is a variation of scaling that represents the number of standard deviations away from the mean. \n",
        "# Use z-score to ensure your feature distributions have mean = 0 and std = 1. \n",
        "# It’s useful when there are a few outliers, but not so extreme that you need clipping.\n",
        "# Apply the same normalization technique to the test dataset as the training dataset. This means using the mean and standard deviation calculated from the training dataset.\n",
        "\n",
        "surg_weight_mean = x_train['surgery_weight'].mean()\n",
        "surg_weight_std = df['surgery_weight'].std()\n",
        "\n",
        "x_train['surg_weight_norm'] = (x_train['surgery_weight'] - surg_weight_mean)/surg_weight_std\n",
        "x_test['surg_weight_norm'] = (x_test['surgery_weight'] - surg_weight_mean)/surg_weight_std\n"
      ],
      "metadata": {
        "id": "fKhYNlY4uwrD"
      },
      "execution_count": 48,
      "outputs": []
    },
    {
      "cell_type": "markdown",
      "source": [
        "###Correlation Between Mutations and Selected Trait \n",
        "\n"
      ],
      "metadata": {
        "id": "nUaSOInYarVD"
      }
    },
    {
      "cell_type": "code",
      "source": [
        "# correlation between cued_active trait and each mutation\n",
        "\n",
        "mutations = list(genotypes.columns)[1:]\n",
        "corr_cuedActive = {}\n",
        "for i in mutations: \n",
        "  corr_cuedActive[i] = x_train['cued_active'].corr(x_train[i])"
      ],
      "metadata": {
        "id": "kl5xLuCDfmFT"
      },
      "execution_count": 49,
      "outputs": []
    },
    {
      "cell_type": "code",
      "source": [
        "# only select mutations to be input features if they surpass a given correlation threshold\n",
        "\n",
        "corr_threshold = 0.055\n",
        "\n",
        "top_mutations = {k:v for k,v in corr_cuedActive.items() if v > corr_threshold and not math.isnan(v)}\n",
        "# for k,v in top_mutations.items():\n",
        "#   print(f'{k} : {v}')\n",
        "print(f'Total Number of Mutations: {len(mutations)} \\nNumber of Mutations that have a correlation greater than {corr_threshold} : {len(top_mutations)}')"
      ],
      "metadata": {
        "colab": {
          "base_uri": "https://localhost:8080/"
        },
        "id": "cvI1DUXw9BVu",
        "outputId": "9f3a91ce-f6e8-4a86-ee96-f58f52b1df86"
      },
      "execution_count": 50,
      "outputs": [
        {
          "output_type": "stream",
          "name": "stdout",
          "text": [
            "Total Number of Mutations: 3000 \n",
            "Number of Mutations that have a correlation greater than 0.055 : 473\n"
          ]
        }
      ]
    },
    {
      "cell_type": "markdown",
      "source": [
        "###Feature Selection"
      ],
      "metadata": {
        "id": "30d3dd69VGfP"
      }
    },
    {
      "cell_type": "code",
      "source": [
        "# features that will be used as input to the model \n",
        "\n",
        "features = ['cued_active', 'sex', 'site', 'surgery_weight', 'cohort_num', 'cued_age']\n",
        "features.extend(list(room_ohe.columns))\n",
        "features.extend(list(box_ohe.columns))\n",
        "features.extend(list(top_mutations.keys()))\n",
        "\n",
        "# target \n",
        "\n",
        "target = 'cued_active'"
      ],
      "metadata": {
        "id": "W7MMHPNRgH8s"
      },
      "execution_count": 51,
      "outputs": []
    },
    {
      "cell_type": "code",
      "source": [
        "# Select the all the columns that contain either the \"features\" or \"target\"\n",
        "\n",
        "feat_train = x_train[features]\n",
        "target_train = y_train[features]\n",
        "feat_test = x_test[features]\n",
        "target_test = y_test[features]\n",
        "\n",
        "# Remove rows that contain null values\n",
        "\n",
        "feat_train = feat_train.dropna()\n",
        "target_train = target_train.dropna()\n",
        "feat_test = feat_test.dropna()\n",
        "target_test = target_test.dropna()\n",
        "\n",
        "# Select the feature columns for input and target column for output\n",
        "\n",
        "feat_train = feat_train[features[1:]]\n",
        "target_train = target_train[target]\n",
        "feat_test = feat_test[features[1:]]\n",
        "target_test = target_test[target]"
      ],
      "metadata": {
        "id": "sSkWA2NQVZfC"
      },
      "execution_count": 52,
      "outputs": []
    },
    {
      "cell_type": "markdown",
      "source": [
        "#5. Model"
      ],
      "metadata": {
        "id": "9s7rQoCBkEtR"
      }
    },
    {
      "cell_type": "code",
      "source": [
        "# Instantiate Linear Regression Model \n",
        "\n",
        "model = LinearRegression()"
      ],
      "metadata": {
        "id": "TcgU-sFpkGT8"
      },
      "execution_count": 53,
      "outputs": []
    },
    {
      "cell_type": "code",
      "source": [
        "# Train Model \n",
        "\n",
        "model.fit(feat_train, target_train)"
      ],
      "metadata": {
        "colab": {
          "base_uri": "https://localhost:8080/",
          "height": 75
        },
        "id": "EZ0Wg3fhldQz",
        "outputId": "5d101c55-6618-40d0-a53b-9b3e5f04ced6"
      },
      "execution_count": 54,
      "outputs": [
        {
          "output_type": "execute_result",
          "data": {
            "text/plain": [
              "LinearRegression()"
            ],
            "text/html": [
              "<style>#sk-container-id-2 {color: black;background-color: white;}#sk-container-id-2 pre{padding: 0;}#sk-container-id-2 div.sk-toggleable {background-color: white;}#sk-container-id-2 label.sk-toggleable__label {cursor: pointer;display: block;width: 100%;margin-bottom: 0;padding: 0.3em;box-sizing: border-box;text-align: center;}#sk-container-id-2 label.sk-toggleable__label-arrow:before {content: \"▸\";float: left;margin-right: 0.25em;color: #696969;}#sk-container-id-2 label.sk-toggleable__label-arrow:hover:before {color: black;}#sk-container-id-2 div.sk-estimator:hover label.sk-toggleable__label-arrow:before {color: black;}#sk-container-id-2 div.sk-toggleable__content {max-height: 0;max-width: 0;overflow: hidden;text-align: left;background-color: #f0f8ff;}#sk-container-id-2 div.sk-toggleable__content pre {margin: 0.2em;color: black;border-radius: 0.25em;background-color: #f0f8ff;}#sk-container-id-2 input.sk-toggleable__control:checked~div.sk-toggleable__content {max-height: 200px;max-width: 100%;overflow: auto;}#sk-container-id-2 input.sk-toggleable__control:checked~label.sk-toggleable__label-arrow:before {content: \"▾\";}#sk-container-id-2 div.sk-estimator input.sk-toggleable__control:checked~label.sk-toggleable__label {background-color: #d4ebff;}#sk-container-id-2 div.sk-label input.sk-toggleable__control:checked~label.sk-toggleable__label {background-color: #d4ebff;}#sk-container-id-2 input.sk-hidden--visually {border: 0;clip: rect(1px 1px 1px 1px);clip: rect(1px, 1px, 1px, 1px);height: 1px;margin: -1px;overflow: hidden;padding: 0;position: absolute;width: 1px;}#sk-container-id-2 div.sk-estimator {font-family: monospace;background-color: #f0f8ff;border: 1px dotted black;border-radius: 0.25em;box-sizing: border-box;margin-bottom: 0.5em;}#sk-container-id-2 div.sk-estimator:hover {background-color: #d4ebff;}#sk-container-id-2 div.sk-parallel-item::after {content: \"\";width: 100%;border-bottom: 1px solid gray;flex-grow: 1;}#sk-container-id-2 div.sk-label:hover label.sk-toggleable__label {background-color: #d4ebff;}#sk-container-id-2 div.sk-serial::before {content: \"\";position: absolute;border-left: 1px solid gray;box-sizing: border-box;top: 0;bottom: 0;left: 50%;z-index: 0;}#sk-container-id-2 div.sk-serial {display: flex;flex-direction: column;align-items: center;background-color: white;padding-right: 0.2em;padding-left: 0.2em;position: relative;}#sk-container-id-2 div.sk-item {position: relative;z-index: 1;}#sk-container-id-2 div.sk-parallel {display: flex;align-items: stretch;justify-content: center;background-color: white;position: relative;}#sk-container-id-2 div.sk-item::before, #sk-container-id-2 div.sk-parallel-item::before {content: \"\";position: absolute;border-left: 1px solid gray;box-sizing: border-box;top: 0;bottom: 0;left: 50%;z-index: -1;}#sk-container-id-2 div.sk-parallel-item {display: flex;flex-direction: column;z-index: 1;position: relative;background-color: white;}#sk-container-id-2 div.sk-parallel-item:first-child::after {align-self: flex-end;width: 50%;}#sk-container-id-2 div.sk-parallel-item:last-child::after {align-self: flex-start;width: 50%;}#sk-container-id-2 div.sk-parallel-item:only-child::after {width: 0;}#sk-container-id-2 div.sk-dashed-wrapped {border: 1px dashed gray;margin: 0 0.4em 0.5em 0.4em;box-sizing: border-box;padding-bottom: 0.4em;background-color: white;}#sk-container-id-2 div.sk-label label {font-family: monospace;font-weight: bold;display: inline-block;line-height: 1.2em;}#sk-container-id-2 div.sk-label-container {text-align: center;}#sk-container-id-2 div.sk-container {/* jupyter's `normalize.less` sets `[hidden] { display: none; }` but bootstrap.min.css set `[hidden] { display: none !important; }` so we also need the `!important` here to be able to override the default hidden behavior on the sphinx rendered scikit-learn.org. See: https://github.com/scikit-learn/scikit-learn/issues/21755 */display: inline-block !important;position: relative;}#sk-container-id-2 div.sk-text-repr-fallback {display: none;}</style><div id=\"sk-container-id-2\" class=\"sk-top-container\"><div class=\"sk-text-repr-fallback\"><pre>LinearRegression()</pre><b>In a Jupyter environment, please rerun this cell to show the HTML representation or trust the notebook. <br />On GitHub, the HTML representation is unable to render, please try loading this page with nbviewer.org.</b></div><div class=\"sk-container\" hidden><div class=\"sk-item\"><div class=\"sk-estimator sk-toggleable\"><input class=\"sk-toggleable__control sk-hidden--visually\" id=\"sk-estimator-id-2\" type=\"checkbox\" checked><label for=\"sk-estimator-id-2\" class=\"sk-toggleable__label sk-toggleable__label-arrow\">LinearRegression</label><div class=\"sk-toggleable__content\"><pre>LinearRegression()</pre></div></div></div></div></div>"
            ]
          },
          "metadata": {},
          "execution_count": 54
        }
      ]
    },
    {
      "cell_type": "code",
      "source": [
        "# Run Model on Test Data\n",
        "\n",
        "y_pred = model.predict(feat_test)"
      ],
      "metadata": {
        "id": "Ab1qUTW6nEWC"
      },
      "execution_count": 55,
      "outputs": []
    },
    {
      "cell_type": "code",
      "source": [
        "# Measure Error between predicted values and true values\n",
        "\n",
        "mse = mean_squared_error(target_test, y_pred)\n",
        "print(f'Mean Squared Error: {mse}')"
      ],
      "metadata": {
        "colab": {
          "base_uri": "https://localhost:8080/"
        },
        "id": "972sNgPSo1av",
        "outputId": "aab4cdab-f0b0-439a-eb76-846f17560c5e"
      },
      "execution_count": 56,
      "outputs": [
        {
          "output_type": "stream",
          "name": "stdout",
          "text": [
            "Mean Squared Error: 138.53638785599023\n"
          ]
        }
      ]
    },
    {
      "cell_type": "markdown",
      "source": [
        "###Visualize Model Performance"
      ],
      "metadata": {
        "id": "yUCDbFr24ELM"
      }
    },
    {
      "cell_type": "code",
      "source": [
        "# Plot predicted values against the actual values. \n",
        "# Ideally, the points should lie close to a diagonal line with slope=1, indicating a good fit between the predicted and actual values.\n",
        "\n",
        "plt.scatter(target_test, y_pred)\n",
        "plt.xlabel('Actual Values')\n",
        "plt.ylabel('Predicted Values')\n",
        "plt.title('Linear Regression Model')\n",
        "plt.plot([0, 45], [0, 45], color='red')\n",
        "plt.xlim(0, 45)\n",
        "plt.ylim(0, 45)\n",
        "plt.show()"
      ],
      "metadata": {
        "colab": {
          "base_uri": "https://localhost:8080/",
          "height": 295
        },
        "id": "lyyQt6Xto9nz",
        "outputId": "5af04e5f-9c2c-443b-8faa-264900a7b28f"
      },
      "execution_count": 57,
      "outputs": [
        {
          "output_type": "display_data",
          "data": {
            "text/plain": [
              "<Figure size 432x288 with 1 Axes>"
            ],
            "image/png": "[encoded data removed]"
          },
          "metadata": {
            "needs_background": "light"
          }
        }
      ]
    },
    {
      "cell_type": "code",
      "source": [
        "# Plot the residuals. The residuals are the differences between the predicted values and the actual values. \n",
        "# Ideally, the residuals should be normally distributed. \n",
        "\n",
        "residuals = target_test - y_pred\n",
        "plt.hist(residuals, bins=10)\n",
        "plt.xlabel('Residuals')\n",
        "plt.ylabel('Frequency')\n",
        "plt.title('Residuals Histogram')\n",
        "plt.show()"
      ],
      "metadata": {
        "colab": {
          "base_uri": "https://localhost:8080/",
          "height": 295
        },
        "id": "SLmtI5vcpzuf",
        "outputId": "571da91a-9afb-4c59-c51c-8128924d759c"
      },
      "execution_count": 58,
      "outputs": [
        {
          "output_type": "display_data",
          "data": {
            "text/plain": [
              "<Figure size 432x288 with 1 Axes>"
            ],
            "image/png": "[encoded data removed]"
          },
          "metadata": {
            "needs_background": "light"
          }
        }
      ]
    }
  ]
}